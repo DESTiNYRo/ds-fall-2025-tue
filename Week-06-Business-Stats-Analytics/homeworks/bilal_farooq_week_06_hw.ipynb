{
 "cells": [
  {
   "cell_type": "markdown",
   "id": "15cd454b",
   "metadata": {},
   "source": [
    "# Week 06: Business Statistics & Analytics - E-commerce Analysis\n",
    "\n",
    "## Learning Objectives\n",
    "By the end of this exercise, you will be able to:\n",
    "- Calculate key business metrics using pandas\n",
    "- Create meaningful visualizations for business insights\n",
    "- Apply statistical concepts to real business scenarios\n",
    "- Make data-driven recommendations\n",
    "\n",
    "---\n",
    "\n",
    "## Business Context\n",
    "\n",
    "You're working as a Data Analyst for **TechMart**, an e-commerce company. Your manager needs insights from last quarter's sales data to inform strategic decisions for the upcoming quarter.\n",
    "\n",
    "Your analysis will help answer critical questions about customer behavior, regional performance, and product trends that directly impact business growth."
   ]
  },
  {
   "cell_type": "markdown",
   "id": "023b9e8d",
   "metadata": {},
   "source": [
    "## Dataset Setup\n",
    "\n",
    "First, let's generate the synthetic dataset you'll be analyzing:"
   ]
  },
  {
   "cell_type": "code",
   "execution_count": null,
   "id": "3608e087",
   "metadata": {},
   "outputs": [
    {
     "name": "stdout",
     "output_type": "stream",
     "text": [
      "✅ Dataset created successfully!\n"
     ]
    },
    {
     "data": {
      "text/html": [
       "<div>\n",
       "<style scoped>\n",
       "    .dataframe tbody tr th:only-of-type {\n",
       "        vertical-align: middle;\n",
       "    }\n",
       "\n",
       "    .dataframe tbody tr th {\n",
       "        vertical-align: top;\n",
       "    }\n",
       "\n",
       "    .dataframe thead th {\n",
       "        text-align: right;\n",
       "    }\n",
       "</style>\n",
       "<table border=\"1\" class=\"dataframe\">\n",
       "  <thead>\n",
       "    <tr style=\"text-align: right;\">\n",
       "      <th></th>\n",
       "      <th>order_id</th>\n",
       "      <th>customer_id</th>\n",
       "      <th>customer_segment</th>\n",
       "      <th>region</th>\n",
       "      <th>order_date</th>\n",
       "      <th>product_category</th>\n",
       "      <th>quantity</th>\n",
       "      <th>unit_price</th>\n",
       "      <th>revenue</th>\n",
       "      <th>discount_applied</th>\n",
       "      <th>payment_method</th>\n",
       "    </tr>\n",
       "  </thead>\n",
       "  <tbody>\n",
       "    <tr>\n",
       "      <th>0</th>\n",
       "      <td>1</td>\n",
       "      <td>52</td>\n",
       "      <td>Student</td>\n",
       "      <td>North</td>\n",
       "      <td>2023-01-01</td>\n",
       "      <td>Clothing</td>\n",
       "      <td>1</td>\n",
       "      <td>42.43</td>\n",
       "      <td>42.43</td>\n",
       "      <td>0</td>\n",
       "      <td>Debit Card</td>\n",
       "    </tr>\n",
       "    <tr>\n",
       "      <th>1</th>\n",
       "      <td>2</td>\n",
       "      <td>93</td>\n",
       "      <td>Student</td>\n",
       "      <td>West</td>\n",
       "      <td>2023-01-02</td>\n",
       "      <td>Sports</td>\n",
       "      <td>1</td>\n",
       "      <td>24.18</td>\n",
       "      <td>24.18</td>\n",
       "      <td>0</td>\n",
       "      <td>Gift Card</td>\n",
       "    </tr>\n",
       "    <tr>\n",
       "      <th>2</th>\n",
       "      <td>3</td>\n",
       "      <td>15</td>\n",
       "      <td>Professional</td>\n",
       "      <td>East</td>\n",
       "      <td>2023-01-03</td>\n",
       "      <td>Sports</td>\n",
       "      <td>3</td>\n",
       "      <td>158.71</td>\n",
       "      <td>476.13</td>\n",
       "      <td>0</td>\n",
       "      <td>Debit Card</td>\n",
       "    </tr>\n",
       "    <tr>\n",
       "      <th>3</th>\n",
       "      <td>4</td>\n",
       "      <td>72</td>\n",
       "      <td>Student</td>\n",
       "      <td>East</td>\n",
       "      <td>2023-01-04</td>\n",
       "      <td>Sports</td>\n",
       "      <td>1</td>\n",
       "      <td>60.42</td>\n",
       "      <td>60.42</td>\n",
       "      <td>0</td>\n",
       "      <td>Credit Card</td>\n",
       "    </tr>\n",
       "    <tr>\n",
       "      <th>4</th>\n",
       "      <td>5</td>\n",
       "      <td>61</td>\n",
       "      <td>Student</td>\n",
       "      <td>West</td>\n",
       "      <td>2023-01-05</td>\n",
       "      <td>Books</td>\n",
       "      <td>3</td>\n",
       "      <td>43.78</td>\n",
       "      <td>131.34</td>\n",
       "      <td>0</td>\n",
       "      <td>Gift Card</td>\n",
       "    </tr>\n",
       "  </tbody>\n",
       "</table>\n",
       "</div>"
      ],
      "text/plain": [
       "   order_id  customer_id customer_segment region order_date product_category  \\\n",
       "0         1           52          Student  North 2023-01-01         Clothing   \n",
       "1         2           93          Student   West 2023-01-02           Sports   \n",
       "2         3           15     Professional   East 2023-01-03           Sports   \n",
       "3         4           72          Student   East 2023-01-04           Sports   \n",
       "4         5           61          Student   West 2023-01-05            Books   \n",
       "\n",
       "   quantity  unit_price  revenue  discount_applied payment_method  \n",
       "0         1       42.43    42.43                 0     Debit Card  \n",
       "1         1       24.18    24.18                 0      Gift Card  \n",
       "2         3      158.71   476.13                 0     Debit Card  \n",
       "3         1       60.42    60.42                 0    Credit Card  \n",
       "4         3       43.78   131.34                 0      Gift Card  "
      ]
     },
     "execution_count": 1,
     "metadata": {},
     "output_type": "execute_result"
    }
   ],
   "source": [
    "\n",
    "import pandas as pd\n",
    "import numpy as np\n",
    "import matplotlib.pyplot as plt\n",
    "import seaborn as sns\n",
    "\n",
    "# Set random seed for reproducible results\n",
    "np.random.seed(42)\n",
    "\n",
    "# Generate 500 orders from 2023\n",
    "n_orders = 500\n",
    "\n",
    "# Create order IDs and customer data\n",
    "order_id = np.arange(1, n_orders + 1)\n",
    "customer_id = np.random.randint(1, 101, size=n_orders)\n",
    "customer_segment = np.random.choice([\"Student\", \"Professional\", \"Senior\"], size=n_orders, p=[0.4, 0.4, 0.2])\n",
    "region = np.random.choice([\"North\", \"South\", \"East\", \"West\"], size=n_orders)\n",
    "order_date = pd.date_range(start=\"2023-01-01\", periods=n_orders, freq=\"D\")\n",
    "product_category = np.random.choice([\"Electronics\", \"Clothing\", \"Books\", \"Home\", \"Sports\"], size=n_orders)\n",
    "quantity = np.random.randint(1, 5, size=n_orders)\n",
    "unit_price = np.round(np.random.uniform(10, 200, size=n_orders), 2)\n",
    "revenue = quantity * unit_price\n",
    "discount_applied = np.random.choice([0, 5, 10, 15, 20, 25, 30], size=n_orders, p=[0.5,0.1,0.1,0.1,0.05,0.05,0.1])\n",
    "payment_method = np.random.choice([\"Credit Card\", \"PayPal\", \"Gift Card\", \"Debit Card\"], size=n_orders)\n",
    "\n",
    "# Build dataframe\n",
    "df = pd.DataFrame({\n",
    "    \"order_id\": order_id,\n",
    "    \"customer_id\": customer_id,\n",
    "    \"customer_segment\": customer_segment,\n",
    "    \"region\": region,\n",
    "    \"order_date\": order_date,\n",
    "    \"product_category\": product_category,\n",
    "    \"quantity\": quantity,\n",
    "    \"unit_price\": unit_price,\n",
    "    \"revenue\": revenue,\n",
    "    \"discount_applied\": discount_applied,\n",
    "    \"payment_method\": payment_method\n",
    "})\n",
    "\n",
    "# Save dataset for reference\n",
    "df.to_csv(\"ecommerce_data.csv\", index=False)\n",
    "print(\"✅ Dataset created successfully!\")\n",
    "\n",
    "# Display first few rows\n",
    "df.head()"
   ]
  },
  {
   "cell_type": "markdown",
   "id": "fbf765c7",
   "metadata": {},
   "source": [
    "## Data Exploration\n",
    "\n",
    "Let's start by understanding our dataset:"
   ]
  },
  {
   "cell_type": "code",
   "execution_count": null,
   "id": "9ab80b5b",
   "metadata": {},
   "outputs": [
    {
     "name": "stdout",
     "output_type": "stream",
     "text": [
      "Dataset Info:\n",
      "<class 'pandas.core.frame.DataFrame'>\n",
      "RangeIndex: 500 entries, 0 to 499\n",
      "Data columns (total 11 columns):\n",
      " #   Column            Non-Null Count  Dtype  \n",
      "---  ------            --------------  -----  \n",
      " 0   order_id          500 non-null    int64  \n",
      " 1   customer_id       500 non-null    int64  \n",
      " 2   customer_segment  500 non-null    object \n",
      " 3   region            500 non-null    object \n",
      " 4   order_date        500 non-null    object \n",
      " 5   product_category  500 non-null    object \n",
      " 6   quantity          500 non-null    int64  \n",
      " 7   unit_price        500 non-null    float64\n",
      " 8   revenue           500 non-null    float64\n",
      " 9   discount_applied  500 non-null    int64  \n",
      " 10  payment_method    500 non-null    object \n",
      "dtypes: float64(2), int64(4), object(5)\n",
      "memory usage: 43.1+ KB\n",
      "None\n",
      "\n",
      "Dataset Shape: (500, 11)\n",
      "\n",
      "First few rows:\n"
     ]
    },
    {
     "data": {
      "text/html": [
       "<div>\n",
       "<style scoped>\n",
       "    .dataframe tbody tr th:only-of-type {\n",
       "        vertical-align: middle;\n",
       "    }\n",
       "\n",
       "    .dataframe tbody tr th {\n",
       "        vertical-align: top;\n",
       "    }\n",
       "\n",
       "    .dataframe thead th {\n",
       "        text-align: right;\n",
       "    }\n",
       "</style>\n",
       "<table border=\"1\" class=\"dataframe\">\n",
       "  <thead>\n",
       "    <tr style=\"text-align: right;\">\n",
       "      <th></th>\n",
       "      <th>order_id</th>\n",
       "      <th>customer_id</th>\n",
       "      <th>customer_segment</th>\n",
       "      <th>region</th>\n",
       "      <th>order_date</th>\n",
       "      <th>product_category</th>\n",
       "      <th>quantity</th>\n",
       "      <th>unit_price</th>\n",
       "      <th>revenue</th>\n",
       "      <th>discount_applied</th>\n",
       "      <th>payment_method</th>\n",
       "    </tr>\n",
       "  </thead>\n",
       "  <tbody>\n",
       "    <tr>\n",
       "      <th>0</th>\n",
       "      <td>1</td>\n",
       "      <td>52</td>\n",
       "      <td>Student</td>\n",
       "      <td>North</td>\n",
       "      <td>2023-01-01</td>\n",
       "      <td>Clothing</td>\n",
       "      <td>1</td>\n",
       "      <td>42.43</td>\n",
       "      <td>42.43</td>\n",
       "      <td>0</td>\n",
       "      <td>Debit Card</td>\n",
       "    </tr>\n",
       "    <tr>\n",
       "      <th>1</th>\n",
       "      <td>2</td>\n",
       "      <td>93</td>\n",
       "      <td>Student</td>\n",
       "      <td>West</td>\n",
       "      <td>2023-01-02</td>\n",
       "      <td>Sports</td>\n",
       "      <td>1</td>\n",
       "      <td>24.18</td>\n",
       "      <td>24.18</td>\n",
       "      <td>0</td>\n",
       "      <td>Gift Card</td>\n",
       "    </tr>\n",
       "    <tr>\n",
       "      <th>2</th>\n",
       "      <td>3</td>\n",
       "      <td>15</td>\n",
       "      <td>Professional</td>\n",
       "      <td>East</td>\n",
       "      <td>2023-01-03</td>\n",
       "      <td>Sports</td>\n",
       "      <td>3</td>\n",
       "      <td>158.71</td>\n",
       "      <td>476.13</td>\n",
       "      <td>0</td>\n",
       "      <td>Debit Card</td>\n",
       "    </tr>\n",
       "    <tr>\n",
       "      <th>3</th>\n",
       "      <td>4</td>\n",
       "      <td>72</td>\n",
       "      <td>Student</td>\n",
       "      <td>East</td>\n",
       "      <td>2023-01-04</td>\n",
       "      <td>Sports</td>\n",
       "      <td>1</td>\n",
       "      <td>60.42</td>\n",
       "      <td>60.42</td>\n",
       "      <td>0</td>\n",
       "      <td>Credit Card</td>\n",
       "    </tr>\n",
       "    <tr>\n",
       "      <th>4</th>\n",
       "      <td>5</td>\n",
       "      <td>61</td>\n",
       "      <td>Student</td>\n",
       "      <td>West</td>\n",
       "      <td>2023-01-05</td>\n",
       "      <td>Books</td>\n",
       "      <td>3</td>\n",
       "      <td>43.78</td>\n",
       "      <td>131.34</td>\n",
       "      <td>0</td>\n",
       "      <td>Gift Card</td>\n",
       "    </tr>\n",
       "  </tbody>\n",
       "</table>\n",
       "</div>"
      ],
      "text/plain": [
       "   order_id  customer_id customer_segment region  order_date product_category  \\\n",
       "0         1           52          Student  North  2023-01-01         Clothing   \n",
       "1         2           93          Student   West  2023-01-02           Sports   \n",
       "2         3           15     Professional   East  2023-01-03           Sports   \n",
       "3         4           72          Student   East  2023-01-04           Sports   \n",
       "4         5           61          Student   West  2023-01-05            Books   \n",
       "\n",
       "   quantity  unit_price  revenue  discount_applied payment_method  \n",
       "0         1       42.43    42.43                 0     Debit Card  \n",
       "1         1       24.18    24.18                 0      Gift Card  \n",
       "2         3      158.71   476.13                 0     Debit Card  \n",
       "3         1       60.42    60.42                 0    Credit Card  \n",
       "4         3       43.78   131.34                 0      Gift Card  "
      ]
     },
     "execution_count": 2,
     "metadata": {},
     "output_type": "execute_result"
    }
   ],
   "source": [
    "# Load the data\n",
    "data = pd.read_csv(\"ecommerce_data.csv\")\n",
    "\n",
    "# Basic information about the dataset\n",
    "print(\"Dataset Info:\")\n",
    "print(data.info())\n",
    "print(\"\\nDataset Shape:\", data.shape)\n",
    "print(\"\\nFirst few rows:\")\n",
    "data.head()"
   ]
  },
  {
   "cell_type": "code",
   "execution_count": null,
   "id": "45510b1d",
   "metadata": {},
   "outputs": [
    {
     "name": "stdout",
     "output_type": "stream",
     "text": [
      "Monthly Revenue:\n",
      "month\n",
      "2023-01    6626.66\n",
      "2023-02    6796.03\n",
      "2023-03    8960.10\n",
      "2023-04    7713.47\n",
      "2023-05    7266.80\n",
      "2023-06    7982.47\n",
      "2023-07    7981.65\n",
      "2023-08    6664.64\n",
      "2023-09    9708.06\n",
      "2023-10    7287.27\n",
      "2023-11    8795.85\n",
      "2023-12    8119.44\n",
      "2024-01    7268.59\n",
      "2024-02    8388.91\n",
      "2024-03    6835.73\n",
      "2024-04    7430.29\n",
      "2024-05    4314.71\n",
      "Freq: M, Name: revenue, dtype: float64\n"
     ]
    },
    {
     "data": {
      "image/png": "[encoded data removed]",
      "text/plain": [
       "<Figure size 1000x600 with 1 Axes>"
      ]
     },
     "metadata": {},
     "output_type": "display_data"
    }
   ],
   "source": [
    "# Convert order_date to datetime and add helpful columns\n",
    "data[\"order_date\"] = pd.to_datetime(data[\"order_date\"])\n",
    "data[\"month\"] = data[\"order_date\"].dt.to_period(\"M\")\n",
    "data[\"day_of_week\"] = data[\"order_date\"].dt.day_name()\n",
    "\n",
    "# Example: Revenue by month\n",
    "monthly_revenue = data.groupby(\"month\")[\"revenue\"].sum()\n",
    "print(\"Monthly Revenue:\")\n",
    "print(monthly_revenue)\n",
    "\n",
    "# Plot monthly revenue\n",
    "monthly_revenue.plot(kind=\"bar\", figsize=(10,6), title=\"Monthly Revenue\")\n",
    "plt.ylabel(\"Revenue ($)\")\n",
    "plt.xticks(rotation=45)\n",
    "plt.tight_layout()\n",
    "plt.show()"
   ]
  },
  {
   "cell_type": "markdown",
   "id": "62a50bf3",
   "metadata": {},
   "source": [
    "---\n",
    "\n",
    "## Business Questions\n",
    "\n",
    "Now answer each of the following business questions. Use the starter code above as a reference, and expand your analysis to solve all questions."
   ]
  },
  {
   "cell_type": "markdown",
   "id": "fbb669ad",
   "metadata": {},
   "source": [
    "### 1. Revenue Overview\n",
    "What was the company's total revenue last quarter? Break it down by month."
   ]
  },
  {
   "cell_type": "code",
   "execution_count": null,
   "id": "12d89265",
   "metadata": {},
   "outputs": [
    {
     "name": "stdout",
     "output_type": "stream",
     "text": [
      "last quarter:2024Q2\n",
      "monthly revenue\n",
      "month\n",
      "2024-04    7430.29\n",
      "2024-05    4314.71\n",
      "Freq: M, Name: revenue, dtype: float64\n",
      "\n",
      "Total Revenue Last Quarter: $11,745.00\n"
     ]
    }
   ],
   "source": [
    "# Your code here\n",
    "data['quarter'] = data['order_date'].dt.to_period(\"Q\")\n",
    "last_quarter = data['quarter'].max()\n",
    "last_quarter_data = data[data['quarter']==last_quarter]\n",
    "monthly_rev = last_quarter_data.groupby('month')['revenue'].sum()\n",
    "total_revenue = monthly_rev.sum()\n",
    "\n",
    "print(f\"last quarter:{last_quarter}\")\n",
    "print('monthly revenue')\n",
    "print(monthly_rev)\n",
    "print(f\"\\nTotal Revenue Last Quarter: ${total_revenue:,.2f}\")"
   ]
  },
  {
   "cell_type": "markdown",
   "id": "a9b5c29e",
   "metadata": {},
   "source": [
    "### 2. Top Customers\n",
    "Who are the top 5 customers by total revenue contribution?"
   ]
  },
  {
   "cell_type": "code",
   "execution_count": null,
   "id": "75147e3f",
   "metadata": {},
   "outputs": [
    {
     "name": "stdout",
     "output_type": "stream",
     "text": [
      "customer_id\n",
      "62    4448.39\n",
      "24    3369.44\n",
      "90    2976.78\n",
      "92    2838.74\n",
      "97    2835.62\n",
      "Name: revenue, dtype: float64\n"
     ]
    }
   ],
   "source": [
    "# Your code here\n",
    "top_cust = data.groupby('customer_id')['revenue'].sum()\n",
    "top5 = top_cust.nlargest(5)\n",
    "print(top5)"
   ]
  },
  {
   "cell_type": "markdown",
   "id": "3ce59b98",
   "metadata": {},
   "source": [
    "### 3. Segment Analysis\n",
    "Which customer segment (Student, Professional, Senior) spends the most on average per order?"
   ]
  },
  {
   "cell_type": "code",
   "execution_count": null,
   "id": "6fa0576d",
   "metadata": {},
   "outputs": [
    {
     "name": "stdout",
     "output_type": "stream",
     "text": [
      "Senior → $262.13 per order\n"
     ]
    }
   ],
   "source": [
    "# Your code here\n",
    "customer = data.groupby('customer_segment')['revenue'].sum()\n",
    "counts = data.groupby('customer_segment').size()\n",
    "avg_order = customer/counts\n",
    "top_spender = avg_order.idxmax()\n",
    "top_value = avg_order.max()\n",
    "print(f\"{top_spender} → ${top_value:.2f} per order\")"
   ]
  },
  {
   "cell_type": "markdown",
   "id": "507ae942",
   "metadata": {},
   "source": [
    "### 4. Regional Trends\n",
    "Which region generated the highest revenue? Which region had the highest average order size?"
   ]
  },
  {
   "cell_type": "code",
   "execution_count": null,
   "id": "91f5071a",
   "metadata": {},
   "outputs": [
    {
     "name": "stdout",
     "output_type": "stream",
     "text": [
      "Highest Total Revenue:\n",
      "South → $34,839.45\n",
      "\n",
      "Highest Average Order Size:\n",
      "South → $274.33 per order\n"
     ]
    }
   ],
   "source": [
    "# Your code here\n",
    "region_rev = data.groupby('region')['revenue'].sum()\n",
    "top_region_total = region_rev.idxmax()\n",
    "top_rev_value = region_rev.max()\n",
    "\n",
    "print(\"Highest Total Revenue:\")\n",
    "print(f\"{top_region_total} → ${top_rev_value:,.2f}\")\n",
    "\n",
    "\n",
    "region_avg_order = data.groupby(\"region\")['revenue'].mean()\n",
    "top_avg = region_avg_order.idxmax()\n",
    "top_avg_val = region_avg_order.max()\n",
    "\n",
    "print(\"\\nHighest Average Order Size:\")\n",
    "print(f\"{top_avg} → ${top_avg_val:,.2f} per order\")"
   ]
  },
  {
   "cell_type": "markdown",
   "id": "5b7e51d1",
   "metadata": {},
   "source": [
    "### 5. Product Category Performance\n",
    "Which product category is most popular by quantity vs. by revenue?"
   ]
  },
  {
   "cell_type": "code",
   "execution_count": null,
   "id": "1041c72c",
   "metadata": {},
   "outputs": [
    {
     "name": "stdout",
     "output_type": "stream",
     "text": [
      "Most Popular Product Category by Quantity:\n",
      "Home → 269 units sold\n",
      "\n",
      "Most Popular Product Category by Revenue:\n",
      "Home → $29,871.47\n"
     ]
    }
   ],
   "source": [
    "# Your code here\n",
    "category_amount = data.groupby('product_category')['quantity'].sum()\n",
    "top_category_quantity = category_amount.idxmax()\n",
    "top_amount_val = category_amount.max()\n",
    "print(\"Most Popular Product Category by Quantity:\")\n",
    "print(f\"{top_category_quantity} → {top_amount_val} units sold\")\n",
    "\n",
    "category_rev = data.groupby('product_category')['revenue'].sum()\n",
    "top_category = category_rev.idxmax()\n",
    "top_val = category_rev.max()\n",
    "\n",
    "print(\"\\nMost Popular Product Category by Revenue:\")\n",
    "print(f\"{top_category} → ${top_val:,.2f}\")"
   ]
  },
  {
   "cell_type": "markdown",
   "id": "bc82f78d",
   "metadata": {},
   "source": [
    "### 6. Discount Effectiveness\n",
    "Do discounted orders generate higher or lower revenue per order compared to non-discounted orders?"
   ]
  },
  {
   "cell_type": "code",
   "execution_count": null,
   "id": "7cb097dc",
   "metadata": {},
   "outputs": [
    {
     "name": "stdout",
     "output_type": "stream",
     "text": [
      "Average Revenue per Order (True -> Discounted vs False -> non-discounted):\n",
      "discount_applied\n",
      "False    248.296337\n",
      "True     263.831362\n",
      "Name: revenue, dtype: float64\n"
     ]
    }
   ],
   "source": [
    "# Your code here\n",
    "data['discount_applied'] = data['discount_applied']>0\n",
    "avg_rev_per_order = data.groupby('discount_applied')['revenue'].mean()\n",
    "print(\"Average Revenue per Order (True -> Discounted vs False -> non-discounted):\")\n",
    "print(avg_rev_per_order)"
   ]
  },
  {
   "cell_type": "markdown",
   "id": "a495feba",
   "metadata": {},
   "source": [
    "### 7. Payment Method Usage\n",
    "What percentage of orders use each payment method? Does any payment method correlate with higher spending?"
   ]
  },
  {
   "cell_type": "code",
   "execution_count": null,
   "id": "64b6f2b9",
   "metadata": {},
   "outputs": [
    {
     "name": "stdout",
     "output_type": "stream",
     "text": [
      "Percentage of Orders by Payment Method:\n",
      "payment_method\n",
      "Credit Card    27.4\n",
      "Gift Card      24.8\n",
      "Debit Card     24.6\n",
      "PayPal         23.2\n",
      "Name: proportion, dtype: float64\n",
      "\n",
      "Average Revenue per Order by Payment Method:\n",
      "payment_method\n",
      "Credit Card    257.444234\n",
      "Debit Card     275.980650\n",
      "Gift Card      254.362500\n",
      "PayPal         236.071034\n",
      "Name: revenue, dtype: float64\n"
     ]
    }
   ],
   "source": [
    "# Your code here\n",
    "payment_counts = data[\"payment_method\"].value_counts(normalize=True) * 100\n",
    "print(\"Percentage of Orders by Payment Method:\")\n",
    "print(payment_counts)\n",
    "\n",
    "payment_avg_rev = data.groupby('payment_method')['revenue'].mean()\n",
    "print(\"\\nAverage Revenue per Order by Payment Method:\")\n",
    "print(payment_avg_rev)"
   ]
  },
  {
   "cell_type": "markdown",
   "id": "a525cd28",
   "metadata": {},
   "source": [
    "### 8. Seasonality Check\n",
    "Plot revenue by day of week — are weekends busier than weekdays?"
   ]
  },
  {
   "cell_type": "code",
   "execution_count": null,
   "id": "594adf29",
   "metadata": {},
   "outputs": [
    {
     "data": {
      "image/png": "[encoded data removed]",
      "text/plain": [
       "<Figure size 1000x600 with 1 Axes>"
      ]
     },
     "metadata": {},
     "output_type": "display_data"
    }
   ],
   "source": [
    "# Your code here\n",
    "import matplotlib.pyplot as plt\n",
    "\n",
    "# Revenue by day of week\n",
    "day_revenue = data.groupby('day_of_week')['revenue'].sum()\n",
    "\n",
    "# Reorder days to natural order\n",
    "days_order = [\"Monday\", \"Tuesday\", \"Wednesday\", \"Thursday\", \"Friday\", \"Saturday\", \"Sunday\"]\n",
    "day_revenue = day_revenue.reindex(days_order)\n",
    "\n",
    "# Plot\n",
    "day_revenue.plot(kind='bar', figsize=(10,6), color='skyblue', title='Revenue by Day of Week')\n",
    "plt.ylabel('Revenue ($)')\n",
    "plt.xlabel('Day of Week')\n",
    "plt.xticks(rotation=45)\n",
    "plt.tight_layout()\n",
    "plt.show()"
   ]
  },
  {
   "cell_type": "markdown",
   "id": "08ae2706",
   "metadata": {},
   "source": [
    "### 9. Profitability (Stretch)\n",
    "Assume profit margin = 20% of revenue. Estimate total profit and identify the most profitable region."
   ]
  },
  {
   "cell_type": "code",
   "execution_count": null,
   "id": "490e9ee2",
   "metadata": {},
   "outputs": [
    {
     "name": "stdout",
     "output_type": "stream",
     "text": [
      "Estimated Total Profit: $25,628.13\n",
      "Most Profitable Region: South → $6,967.89\n"
     ]
    }
   ],
   "source": [
    "# Your code here\n",
    "data['profit'] = data['revenue']*0.2\n",
    "total_profit = data['profit'].sum()\n",
    "print(f\"Estimated Total Profit: ${total_profit:,.2f}\")\n",
    "\n",
    "region_profit = data.groupby('region')['profit'].sum()\n",
    "top_reg = region_profit.idxmax()\n",
    "top_reg_profit = region_profit.max()\n",
    "\n",
    "print(f\"Most Profitable Region: {top_reg} → ${top_reg_profit:,.2f}\")\n",
    "      \n"
   ]
  },
  {
   "cell_type": "markdown",
   "id": "259fe6f7",
   "metadata": {},
   "source": [
    "### 10. Business Recommendation\n",
    "Based on your findings, recommend one strategy (e.g., focus on certain customer segments, increase discounts, promote specific regions/products)."
   ]
  },
  {
   "cell_type": "markdown",
   "id": "9415b35d",
   "metadata": {},
   "source": [
    "**Your recommendation here:**\n",
    "\n",
    "Write your analysis and recommendation based on the insights you discovered from the data."
   ]
  },
  {
   "cell_type": "markdown",
   "id": "9d86796a",
   "metadata": {},
   "source": [
    "---\n",
    "\n",
    "## Submission Requirements\n",
    "\n",
    "1. **Complete code** for all 10 questions\n",
    "2. **Clear visualizations** where appropriate  \n",
    "3. **Brief interpretation** of each result\n",
    "4. **Final business recommendation** with supporting data\n",
    "\n",
    "Remember: Focus on what the numbers tell us about the business, not just the calculations themselves."
   ]
  }
 ],
 "metadata": {
  "kernelspec": {
   "display_name": "Python 3",
   "language": "python",
   "name": "python3"
  },
  "language_info": {
   "codemirror_mode": {
    "name": "ipython",
    "version": 3
   },
   "file_extension": ".py",
   "mimetype": "text/x-python",
   "name": "python",
   "nbconvert_exporter": "python",
   "pygments_lexer": "ipython3",
   "version": "3.12.1"
  }
 },
 "nbformat": 4,
 "nbformat_minor": 5
}
